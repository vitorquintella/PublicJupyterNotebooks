{
 "cells": [
  {
   "cell_type": "code",
   "execution_count": 119,
   "metadata": {},
   "outputs": [],
   "source": [
    "from datetime import datetime, timedelta\n",
    "import yfinance as yf"
   ]
  },
  {
   "cell_type": "code",
   "execution_count": 129,
   "metadata": {},
   "outputs": [],
   "source": [
    "from packages.models.indicators.IndicatorType import IndicatorType\n",
    "from packages.models.Indicator import Indicator"
   ]
  },
  {
   "cell_type": "code",
   "execution_count": 158,
   "metadata": {},
   "outputs": [],
   "source": [
    "import pandas as pd\n",
    "import matplotlib.pyplot as plt"
   ]
  },
  {
   "cell_type": "markdown",
   "metadata": {},
   "source": [
    "### Indicador do Raul, para teste.\n",
    "(Ajustado)\n"
   ]
  },
  {
   "cell_type": "code",
   "execution_count": 63,
   "metadata": {},
   "outputs": [],
   "source": [
    "class MaxValueLast365days:\n",
    "    id = IndicatorType.maxValueLast365days\n",
    "    name = 'maxValueLast365days'\n",
    "    description = 'Maior valor nos últimos 365 dias'\n",
    "\n",
    "    def __init__(self):\n",
    "        pass\n",
    "\n",
    "\n",
    "    def calculate(self,stocks=[]):\n",
    "        today = datetime.today()\n",
    "        last_yeah = today - timedelta(days=365)\n",
    "        data = yf.download(stocks, last_yeah.strftime('%Y-%m-%d'), today.strftime('%Y-%m-%d'))\n",
    "        self.data = data #Para checagem.\n",
    "\n",
    "        result = []\n",
    "        for stock in stocks:\n",
    "            stock_max_value = 0\n",
    "            stock_last_close = data['Close'][stock][-1] if len(stocks) > 1 else data['Close'][-1]\n",
    "            for val in data['Close'][stock] if len(stocks) > 1 else data['Close']:\n",
    "                if val > stock_max_value:\n",
    "                    stock_max_value = val\n",
    "\n",
    "            indicator = Indicator(id=MaxValueLast365days.id,\n",
    "                                  name=MaxValueLast365days.name,\n",
    "                                  asset_name=stock,\n",
    "                                  description=MaxValueLast365days.description,\n",
    "                                  indicator_value=stock_max_value,\n",
    "                                  current_value=stock_last_close,\n",
    "                                  potential=1 - (stock_last_close / stock_max_value),\n",
    "                                  unit='BRL',\n",
    "                                  last_update=datetime.today().strftime('%Y-%m-%d'),\n",
    "                                  past_horizon=last_yeah.strftime('%Y-%m-%d'),\n",
    "                                  future_horizon=today.strftime('%Y-%m-%d'))\n",
    "\n",
    "            result.append(indicator) #Para checagem.\n",
    "            self.result = result\n",
    "\n",
    "        return result"
   ]
  },
  {
   "cell_type": "code",
   "execution_count": 64,
   "metadata": {},
   "outputs": [
    {
     "name": "stdout",
     "output_type": "stream",
     "text": [
      "[*********************100%***********************]  2 of 2 completed\n"
     ]
    },
    {
     "data": {
      "text/plain": [
       "[<packages.models.Indicator.Indicator at 0x17c0a459888>,\n",
       " <packages.models.Indicator.Indicator at 0x17c0a2e4348>]"
      ]
     },
     "execution_count": 64,
     "metadata": {},
     "output_type": "execute_result"
    }
   ],
   "source": [
    "# Realização do Calculo\n",
    "ind = MaxValueLast365days()\n",
    "ind.calculate(['ABEV3.SA','PETR4.SA'])"
   ]
  },
  {
   "cell_type": "code",
   "execution_count": 65,
   "metadata": {},
   "outputs": [
    {
     "name": "stdout",
     "output_type": "stream",
     "text": [
      "id: 1, name: maxValueLast365days, asset_name: ABEV3.SA, description: Maior valor nos últimos 365 dias, current_value: 13.960000038146973, indicator_value: 20.6299991607666, potential: 0.3233155304874852, unit: BRL, last_update: 2020-06-12, past_horizon: 2019-06-13, future_horizon: 2020-06-12\n",
      "\n",
      "id: 1, name: maxValueLast365days, asset_name: PETR4.SA, description: Maior valor nos últimos 365 dias, current_value: 21.399999618530273, indicator_value: 30.969999313354492, potential: 0.3090087151115165, unit: BRL, last_update: 2020-06-12, past_horizon: 2019-06-13, future_horizon: 2020-06-12\n"
     ]
    }
   ],
   "source": [
    "print(', '.join(\"%s: %s\" % item for item in vars(ind1.result[0]).items()))\n",
    "print()\n",
    "print(', '.join(\"%s: %s\" % item for item in vars(ind1.result[1]).items()))\n"
   ]
  },
  {
   "cell_type": "markdown",
   "metadata": {},
   "source": [
    "### Indicador de Recuperação\n",
    "A proposta deste indicador é verificar como está a recuperação da empresa.\n",
    "\n",
    "Baseado no quanto ela já teve de valor e namaior queda da mesma. (só faz sentido em cenário de recuperação de crise).\n",
    "\n",
    "O quanto que ela já recuperou?\n",
    "(serve de base para o indicador seguinte, recuperação relativa)"
   ]
  },
  {
   "cell_type": "code",
   "execution_count": 147,
   "metadata": {},
   "outputs": [
    {
     "name": "stdout",
     "output_type": "stream",
     "text": [
      "[*********************100%***********************]  10 of 10 completed\n"
     ]
    }
   ],
   "source": [
    "assets = ['ITUB4.SA','B3SA3.SA','PETR4.SA','BBDC4.SA','PETR3.SA','ABEV3.SA', 'BBAS3.SA','ITSA4.SA','MGLU3.SA','JBSS3.SA']\n",
    "today = datetime.today()\n",
    "first_day = today - timedelta(days=365)\n",
    "df = yf.download(assets, first_day.strftime('%Y-%m-%d'), today.strftime('%Y-%m-%d'))"
   ]
  },
  {
   "cell_type": "code",
   "execution_count": 150,
   "metadata": {},
   "outputs": [
    {
     "data": {
      "text/plain": [
       "BBDC4.SA    0.22\n",
       "ABEV3.SA    0.31\n",
       "JBSS3.SA    0.32\n",
       "ITUB4.SA    0.35\n",
       "BBAS3.SA    0.37\n",
       "ITSA4.SA    0.37\n",
       "PETR3.SA    0.49\n",
       "PETR4.SA    0.51\n",
       "B3SA3.SA    0.89\n",
       "MGLU3.SA    0.93\n",
       "dtype: float64"
      ]
     },
     "execution_count": 150,
     "metadata": {},
     "output_type": "execute_result"
    }
   ],
   "source": [
    "#para auxiliar nesta apresentação\n",
    "results = []\n",
    "\n",
    "#logica\n",
    "for asset in assets:\n",
    "    last_close = df['Close'][asset][-1]\n",
    "    max_value = df['Close'][asset].max()\n",
    "    min_value = df['Close'][asset].min()\n",
    "    recovery_degree =  (last_close-min_value)/(max_value-min_value)\n",
    "\n",
    "    #para auxiliar nesta apresentação\n",
    "    results.append(recovery_degree)\n",
    "\n",
    "results_ser = pd.Series(data=results, index=assets)\n",
    "results_ser.round(2).sort_values()"
   ]
  },
  {
   "cell_type": "markdown",
   "metadata": {},
   "source": [
    "Podemos perceber que ações como B3 e MGLU já recuperaram quase todo seu valor, enquanto as demais ações estão bastante distantes do valor original.\n",
    "\n",
    "### Código proposto no modelo (não funcional)"
   ]
  },
  {
   "cell_type": "code",
   "execution_count": 143,
   "metadata": {},
   "outputs": [],
   "source": [
    "# class RecoveryDegree():\n",
    "#     id = IndicatorType.recoveryDegree\n",
    "#     name = 'recoveryDegree'\n",
    "#     description = 'Grau de recuperação em função de maior valor e maior queda no horizonte considerado'\n",
    "    \n",
    "#     def __init__(self):\n",
    "#         pass\n",
    "\n",
    "\n",
    "#     def calculate(self,stocks=[]):\n",
    "#         today = datetime.today()\n",
    "#         first_day = today - timedelta(days=365)\n",
    "#         df = yf.download(assets, first_day.strftime('%Y-%m-%d'), today.strftime('%Y-%m-%d'))\n",
    "\n",
    "#         for asset in assets:\n",
    "#             last_close = df['Close'][asset][-1]\n",
    "#             max_value = df['Close'][asset].max()\n",
    "#             min_value = df['Close'][asset].min()\n",
    "#             recovery_degree =  (last_close-min_value)/(max_value-min_value)           \n",
    "\n",
    "#             indicator = Indicator(id=RecoveryDegree.id,\n",
    "#                               name=RecoveryDegree.name,\n",
    "#                               asset_name=asset,\n",
    "#                               description=RecoveryDegree.description,\n",
    "#                               indicator_value=recovery_degree,\n",
    "#                               current_value=last_close,\n",
    "#                               potential='',\n",
    "#                               unit='BRL',\n",
    "#                               last_update=datetime.today().strftime('%Y-%m-%d'),\n",
    "#                               past_horizon=last_year.strftime('%Y-%m-%d'),\n",
    "#                               future_horizon=today.strftime('%Y-%m-%d'))\n",
    "\n",
    "#             result.append(indicator)\n",
    "\n",
    "#         return recovery_degree"
   ]
  },
  {
   "cell_type": "markdown",
   "metadata": {},
   "source": [
    "### Indicador de Recuperação relativa\n",
    "A proposta deste indicador é verificar como está a recuperação da ação com base no mercado.\n",
    "Ou seja, o quanto a ação já se recuperou com base no mercado como um todo.\n",
    "Ela se recuperou mais? menos? O quanto?\n"
   ]
  },
  {
   "cell_type": "code",
   "execution_count": 153,
   "metadata": {},
   "outputs": [
    {
     "name": "stdout",
     "output_type": "stream",
     "text": [
      "[*********************100%***********************]  11 of 11 completed\n"
     ]
    }
   ],
   "source": [
    "assets = ['ITUB4.SA','B3SA3.SA','PETR4.SA','BBDC4.SA','PETR3.SA','ABEV3.SA', 'BBAS3.SA','ITSA4.SA','MGLU3.SA','JBSS3.SA']\n",
    "assets_and_IBOV = ['^BVSP']+ assets\n",
    "today = datetime.today()\n",
    "first_day = today - timedelta(days=365)\n",
    "df = yf.download(assets_and_IBOV, first_day.strftime('%Y-%m-%d'), today.strftime('%Y-%m-%d'))"
   ]
  },
  {
   "cell_type": "code",
   "execution_count": 154,
   "metadata": {},
   "outputs": [],
   "source": [
    "#para auxiliar nesta apresentação\n",
    "results = []\n",
    "\n",
    "#logica\n",
    "\n",
    "def recovery_degree_calc(asset):\n",
    "    last_close = df['Close'][asset][-1]\n",
    "    max_value = df['Close'][asset].max()\n",
    "    min_value = df['Close'][asset].min()\n",
    "    recovery_degree =  (last_close-min_value)/(max_value-min_value)\n",
    "    return recovery_degree\n",
    "\n",
    "ibov_rec_degree = recovery_degree_calc('^BVSP')\n",
    "for asset in assets:\n",
    "    recovery_degree = recovery_degree_calc(asset)\n",
    "    relative_recovery_degree = recovery_degree/ibov_rec_degree\n",
    "\n",
    "    #para auxiliar nesta apresentação\n",
    "    results.append(relative_recovery_degree)"
   ]
  },
  {
   "cell_type": "code",
   "execution_count": 162,
   "metadata": {
    "scrolled": true
   },
   "outputs": [
    {
     "data": {
      "text/plain": [
       "<matplotlib.axes._subplots.AxesSubplot at 0x17c11878f08>"
      ]
     },
     "execution_count": 162,
     "metadata": {},
     "output_type": "execute_result"
    },
    {
     "data": {
      "image/png": "[encoded data removed]",
      "text/plain": [
       "<Figure size 432x288 with 1 Axes>"
      ]
     },
     "metadata": {
      "needs_background": "light"
     },
     "output_type": "display_data"
    }
   ],
   "source": [
    "# para visualizar\n",
    "plt.axhline(y=1,color ='green')\n",
    "results_ser = pd.Series(data=results, index=assets)\n",
    "results_ser.plot.bar()\n"
   ]
  },
  {
   "cell_type": "markdown",
   "metadata": {},
   "source": [
    "Utilidade???? \n",
    "\n",
    "### Código proposto no modelo (não funcional)"
   ]
  },
  {
   "cell_type": "code",
   "execution_count": null,
   "metadata": {},
   "outputs": [],
   "source": []
  }
 ],
 "metadata": {
  "kernelspec": {
   "display_name": "Python 3",
   "language": "python",
   "name": "python3"
  },
  "language_info": {
   "codemirror_mode": {
    "name": "ipython",
    "version": 3
   },
   "file_extension": ".py",
   "mimetype": "text/x-python",
   "name": "python",
   "nbconvert_exporter": "python",
   "pygments_lexer": "ipython3",
   "version": "3.7.6"
  }
 },
 "nbformat": 4,
 "nbformat_minor": 2
}
